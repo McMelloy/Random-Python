{
 "nbformat": 4,
 "nbformat_minor": 2,
 "metadata": {
  "language_info": {
   "name": "python",
   "codemirror_mode": {
    "name": "ipython",
    "version": 3
   },
   "version": "3.7.4-final"
  },
  "orig_nbformat": 2,
  "file_extension": ".py",
  "mimetype": "text/x-python",
  "name": "python",
  "npconvert_exporter": "python",
  "pygments_lexer": "ipython3",
  "version": 3,
  "kernelspec": {
   "name": "python3",
   "display_name": "Python 3"
  }
 },
 "cells": [
  {
   "cell_type": "markdown",
   "metadata": {},
   "source": [
    "Square(n) Sum:\n",
    "\n",
    "Complete the square sum function so that it squares each number passed into it and then sums the results together.\n",
    "For example, for [1, 2, 2] it should return 9 because 1^2 + 2^2 + 2^2 = 9.\n"
   ]
  },
  {
   "cell_type": "code",
   "execution_count": null,
   "metadata": {},
   "outputs": [],
   "source": [
    "def square_sum(numbers):\n",
    "    return sum([number**2 for number in numbers])"
   ]
  },
  {
   "cell_type": "markdown",
   "metadata": {},
   "source": [
    "List Filtering\n",
    "\n",
    "In this kata you will create a function that takes a list of non-negative integers and strings and returns a new list with the strings filtered out."
   ]
  },
  {
   "cell_type": "code",
   "execution_count": null,
   "metadata": {},
   "outputs": [],
   "source": [
    "def filter_list(l):\n",
    "  return list(filter(lambda x: isinstance(x, int) ,l))"
   ]
  },
  {
   "cell_type": "markdown",
   "metadata": {},
   "source": [
    "Tribonacci Sequence"
   ]
  },
  {
   "cell_type": "code",
   "execution_count": null,
   "metadata": {},
   "outputs": [],
   "source": [
    "def tribonacci(s, n):\n",
    "    for i in range(3, n): s.append(s[i-1] + s[i-2] + s[i-3])\n",
    "    return s[:n]"
   ]
  },
  {
   "cell_type": "markdown",
   "metadata": {},
   "source": [
    "Convert string to camel case\n",
    "\n",
    "Complete the method/function so that it converts dash/underscore delimited words into camel casing. The first word within the output should be capitalized only if the original word was capitalized (known as Upper Camel Case, also often referred to as Pascal case).\n",
    "\n",
    "Examples:\n",
    "to_camel_case(\"the-stealth-warrior\") # returns \"theStealthWarrior\",\n",
    "to_camel_case(\"The_Stealth_Warrior\") # returns \"TheStealthWarrior\""
   ]
  },
  {
   "cell_type": "code",
   "execution_count": 13,
   "metadata": {},
   "outputs": [],
   "source": [
    "import re \n",
    "def to_camel_case(text):\n",
    "    wordlist = re.split('-|_', text)\n",
    "    return wordlist[0] + ''.join([word.title() for word in wordlist[1:]])"
   ]
  },
  {
   "cell_type": "markdown",
   "metadata": {},
   "source": [
    "Find The Parity Outlier\n",
    "\n",
    "You are given an array (which will have a length of at least 3, but could be very large) containing integers. The array is either entirely comprised of odd integers or entirely comprised of even integers except for a single integer N. Write a method that takes the array as an argument and returns this \"outlier\" N."
   ]
  },
  {
   "cell_type": "code",
   "execution_count": null,
   "metadata": {},
   "outputs": [],
   "source": [
    "def find_outlier(integers):\n",
    "    checkOddness = 0\n",
    "    for i in range(3):\n",
    "        if integers[i] % 2 == 1:\n",
    "            checkOddness += 1\n",
    "    if checkOddness > 1:\n",
    "        return list(filter(lambda x: x%2==0,integers)).pop()\n",
    "    else:\n",
    "        return list(filter(lambda x: x%2==1,integers)).pop()"
   ]
  },
  {
   "cell_type": "code",
   "execution_count": 43,
   "metadata": {},
   "outputs": [
    {
     "output_type": "execute_result",
     "data": {
      "text/plain": "False"
     },
     "metadata": {},
     "execution_count": 43
    }
   ],
   "source": [
    "pin = \"00002\"\n",
    "pin.isdigit() and (len(pin)==4 or len(pin)==6)"
   ]
  },
  {
   "cell_type": "code",
   "execution_count": null,
   "metadata": {},
   "outputs": [],
   "source": []
  }
 ]
}