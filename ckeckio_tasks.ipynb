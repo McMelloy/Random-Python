{
 "cells": [
  {
   "cell_type": "code",
   "execution_count": null,
   "metadata": {},
   "outputs": [],
   "source": [
    "def frequency_sort(items):\n",
    "    \"\"\"itemsset=set()\n",
    "    nums = []\n",
    "    for item in items:\n",
    "        if item not in itemsset:\n",
    "            itemsset.add(item)\n",
    "            nums.append([item, items.count(item)])\n",
    "    nums = sorted(nums,key=lambda x:x[1],reverse=True)\n",
    "    res = [i[0] for i in nums for j in range(i[1])]\n",
    "    return res\"\"\"\n",
    "    \"\"\"\"ctr = Counter(items)\n",
    "    temp = sorted(ctr.items(),key=lambda x:x[1],reverse=True)\n",
    "    return [i[0] for i in temp for j in range(i[1])]\"\"\"\"\n",
    "    \n",
    "    return [i[0] for i in sorted(Counter(items).items(),key=lambda x:x[1],reverse=True) for j in range(i[1])]\n",
    "    "
   ]
  },
  {
   "cell_type": "code",
   "execution_count": null,
   "metadata": {},
   "outputs": [],
   "source": [
    "\"\"\"def flatten(array,res):\n",
    "    for item in array:\n",
    "        if type(item) is int :\n",
    "            res.append(item)\n",
    "        elif type(item) is list :\n",
    "            flatten(item,res)\n",
    "            \n",
    "def flat_list(array):\n",
    "    res =[]\n",
    "    flatten(array,res)\n",
    "    return res\"\"\"\n",
    "\n",
    "def flat_list(array):\n",
    "    res = []\n",
    "    for item in array:\n",
    "        if type(item) is int :\n",
    "            res.append(item)\n",
    "        elif type(item) is list :\n",
    "            res.extend(flat_list(item))\n",
    "    return res"
   ]
  },
  {
   "cell_type": "code",
   "execution_count": null,
   "metadata": {},
   "outputs": [],
   "source": [
    "def sun_angle(time):\n",
    "    times = time.split(':')\n",
    "    if int(times[0])<6 or int(times[0])>18 or (int(times[0])==18 and int(times[1])>0):\n",
    "        return 'I don\\'t see the sun!'\n",
    "    else:\n",
    "        return ((int(times[0])-6)*60 + int(times[1]))*(90/360)"
   ]
  },
  {
   "cell_type": "code",
   "execution_count": null,
   "metadata": {},
   "outputs": [],
   "source": [
    "VOWELS = 'aeiouy'\n",
    "\n",
    "def translate(phr):\n",
    "    result=[]\n",
    "    count=0\n",
    "    while count<len(phr):\n",
    "        char=phr[count]\n",
    "        result.append(char)\n",
    "        if char in VOWELS:    \n",
    "            count+=3\n",
    "        elif char.isspace():    \n",
    "            count+=1\n",
    "        else:                   \n",
    "            count+=2\n",
    "    return ''.join(result)\n"
   ]
  }
 ],
 "metadata": {
  "kernelspec": {
   "display_name": "Python 3",
   "language": "python",
   "name": "python3"
  },
  "language_info": {
   "codemirror_mode": {
    "name": "ipython",
    "version": 3
   },
   "file_extension": ".py",
   "mimetype": "text/x-python",
   "name": "python",
   "nbconvert_exporter": "python",
   "pygments_lexer": "ipython3",
   "version": "3.7.4"
  }
 },
 "nbformat": 4,
 "nbformat_minor": 2
}
